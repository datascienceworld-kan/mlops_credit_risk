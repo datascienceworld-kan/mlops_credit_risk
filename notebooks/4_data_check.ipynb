{
  "cells": [
    {
      "cell_type": "markdown",
      "metadata": {
        "id": "0I4pgzLVtBTP"
      },
      "source": [
        "# 1.0 An end-to-end classification problem (Data Check)\n",
        "\n"
      ]
    },
    {
      "cell_type": "markdown",
      "metadata": {
        "id": "Dh34gim6KPtT"
      },
      "source": [
        "## 1.1 Dataset description"
      ]
    },
    {
      "cell_type": "markdown",
      "metadata": {
        "id": "iE8OJoDZ5AFK"
      },
      "source": [
        "The notebooks focus on a borrower's **credit modeling problem**. The database was downloaded through a dataquest project and is available at link below. The data is from **Lending Club** and contains data from loans made in the period **2007 to 2011**. Lending Club is a marketplace for personal loans that matches borrowers who are seeking a loan with investors looking to lend money and make a return. The **target variable**, or what we are wanting to predict, is whether or not, given a person's history, they will repay the loan.\n",
        "\n",
        "You can download the data from the [Kaggle](https://www.kaggle.com/datasets/samaxtech/lending-club-20072011-data).\n",
        "\n",
        "Let's take the following steps:\n",
        "\n",
        "1. ETL (done!!!)\n",
        "4. Data Checks\n",
        "\n",
        "<center><img width=\"600\" src=\"https://drive.google.com/uc?export=view&id=1fKGuR5U5ECf7On6Zo1UWzAIWZrMmZnGc\"></center>"
      ]
    },
    {
      "cell_type": "markdown",
      "metadata": {
        "id": "7UpxKxU1Ej7f"
      },
      "source": [
        "## 1.2 Install, load libraries and setup wandb"
      ]
    },
    {
      "cell_type": "code",
      "execution_count": null,
      "metadata": {
        "id": "t82KewAPWCYe"
      },
      "outputs": [],
      "source": [
        "# !pip install wandb"
      ]
    },
    {
      "cell_type": "code",
      "execution_count": null,
      "metadata": {
        "id": "IumW4s8Sh9i_"
      },
      "outputs": [],
      "source": [
        "# !pip install pytest pytest-sugar"
      ]
    },
    {
      "cell_type": "code",
      "execution_count": 1,
      "metadata": {
        "id": "LASaVZuhRJlL"
      },
      "outputs": [],
      "source": [
        "import wandb"
      ]
    },
    {
      "cell_type": "code",
      "execution_count": 2,
      "metadata": {},
      "outputs": [],
      "source": [
        "import os\n",
        "from dotenv import load_dotenv\n",
        "load_dotenv()\n",
        "\n",
        "WANDB_API_KEY=os.environ.get('WANDB_API_KEY')"
      ]
    },
    {
      "cell_type": "code",
      "execution_count": 3,
      "metadata": {
        "colab": {
          "base_uri": "https://localhost:8080/"
        },
        "id": "QZXcN54GkP25",
        "outputId": "fc74ffdb-5afe-43cf-b361-1fcca2c9d2f0"
      },
      "outputs": [
        {
          "name": "stdout",
          "output_type": "stream",
          "text": [
            "\u001b[34m\u001b[1mwandb\u001b[0m: Appending key for api.wandb.ai to your netrc file: /Users/phamdinhkhanh/.netrc\n",
            "\u001b[34m\u001b[1mwandb\u001b[0m: W&B API key is configured. Use \u001b[1m`wandb login --relogin`\u001b[0m to force relogin\n"
          ]
        }
      ],
      "source": [
        "# Login to Weights & Biases\n",
        "!wandb login --relogin $WANDB_API_KEY"
      ]
    },
    {
      "cell_type": "markdown",
      "metadata": {
        "id": "MPjpyeU7d37l"
      },
      "source": [
        "## 1.2 Pytest\n"
      ]
    },
    {
      "cell_type": "markdown",
      "metadata": {
        "id": "WB1QY4sbPs4-"
      },
      "source": [
        "### 1.2.1 How pytest discovers tests\n"
      ]
    },
    {
      "cell_type": "markdown",
      "metadata": {
        "id": "gXlqh21wiW6P"
      },
      "source": [
        "\n",
        "pytests uses the following [conventions](https://docs.pytest.org/en/latest/goodpractices.html#conventions-for-python-test-discovery) to automatically discovering tests:\n",
        "  1. files with tests should be called `test_*.py` or `*_test.py `\n",
        "  2. test function name should start with `test_`\n",
        "\n",
        "\n"
      ]
    },
    {
      "cell_type": "markdown",
      "metadata": {
        "id": "JtTD3oxoiYF6"
      },
      "source": [
        "### 1.2.2 Fixture"
      ]
    },
    {
      "cell_type": "markdown",
      "metadata": {
        "id": "mwNz2mgMevJJ"
      },
      "source": [
        "\n",
        "An important aspect when using ``pytest`` is understanding the fixture's scope works. \n",
        "\n",
        "The scope of the fixture can have a few legal values, described [here](https://docs.pytest.org/en/6.2.x/fixture.html#fixture-scopes). We are going to consider only **session** and **function**: with the former, the fixture is executed only once in a pytest session and the value it returns is used for all the tests that need it; with the latter, every test function gets a fresh copy of the data. This is useful if the tests modify the input in a way that make the other tests fail, for example."
      ]
    },
    {
      "cell_type": "markdown",
      "metadata": {
        "id": "uJjWla1qxd3i"
      },
      "source": [
        "### 1.2.3 Create and run a test file\n"
      ]
    },
    {
      "cell_type": "code",
      "execution_count": 4,
      "metadata": {
        "colab": {
          "base_uri": "https://localhost:8080/"
        },
        "id": "9acpZigRVANF",
        "outputId": "a426de00-504f-4c2a-e86f-c21739eb6baf"
      },
      "outputs": [
        {
          "name": "stdout",
          "output_type": "stream",
          "text": [
            "Writing test_data.py\n"
          ]
        }
      ],
      "source": [
        "%%file test_data.py\n",
        "import pytest\n",
        "import wandb\n",
        "import pandas as pd\n",
        "\n",
        "# This is global so all tests are collected under the same run\n",
        "run = wandb.init(project=\"risk_credit\", job_type=\"data_checks\")\n",
        "\n",
        "@pytest.fixture(scope=\"session\")\n",
        "def data():\n",
        "\n",
        "    local_path = run.use_artifact(\"risk_credit/preprocessed_data.csv:latest\").file()\n",
        "    df = pd.read_csv(local_path)\n",
        "\n",
        "    return df\n",
        "\n",
        "def test_data_length(data):\n",
        "    \"\"\"\n",
        "    We test that we have enough data to continue\n",
        "    \"\"\"\n",
        "    assert len(data) > 1000\n",
        "\n",
        "\n",
        "def test_number_of_columns(data):\n",
        "    \"\"\"\n",
        "    We test that we have enough data to continue\n",
        "    \"\"\"\n",
        "    assert data.shape[1] == 18\n",
        "\n",
        "def test_column_presence_and_type(data):\n",
        "\n",
        "    required_columns = {\n",
        "        \"loan_amnt\": pd.api.types.is_float_dtype,\n",
        "        \"term\": pd.api.types.is_object_dtype,\n",
        "        \"int_rate\": pd.api.types.is_float_dtype,\n",
        "        \"installment\": pd.api.types.is_float_dtype,\n",
        "        \"emp_length\": pd.api.types.is_object_dtype,\n",
        "        \"home_ownership\": pd.api.types.is_object_dtype,\n",
        "        \"annual_inc\": pd.api.types.is_float_dtype,\n",
        "        \"loan_status\": pd.api.types.is_object_dtype,\n",
        "        \"purpose\" : pd.api.types.is_object_dtype,\n",
        "        \"dti\": pd.api.types.is_float_dtype, \n",
        "        \"delinq_2yrs\": pd.api.types.is_float_dtype,\n",
        "        \"inq_last_6mths\": pd.api.types.is_float_dtype,\n",
        "        \"open_acc\": pd.api.types.is_float_dtype,\n",
        "        \"pub_rec\": pd.api.types.is_float_dtype,\n",
        "        \"verification_status\": pd.api.types.is_object_dtype,\n",
        "        \"revol_bal\": pd.api.types.is_float_dtype,\n",
        "        \"revol_util\": pd.api.types.is_float_dtype,\n",
        "        \"total_acc\": pd.api.types.is_float_dtype\n",
        "    }\n",
        "\n",
        "    # Check column presence\n",
        "    assert set(data.columns.values).issuperset(set(required_columns.keys()))\n",
        "\n",
        "    for col_name, format_verification_funct in required_columns.items():\n",
        "\n",
        "        assert format_verification_funct(data[col_name]), f\"Column {col_name} failed test {format_verification_funct}\"\n",
        "\n",
        "\n",
        "def test_class_names(data):\n",
        "\n",
        "    # Check that only the known classes are present\n",
        "    known_classes = [\n",
        "        \"Fully Paid\",\n",
        "        \"Charged Off\"\n",
        "    ]\n",
        "\n",
        "    assert data[\"loan_status\"].isin(known_classes).all()\n",
        "\n",
        "\n",
        "def test_column_ranges(data):\n",
        "  \n",
        "    ranges = {\n",
        "        \"loan_amnt\": (0, 100000),\n",
        "        \"int_rate\": (0, 30),\n",
        "        \"installment\": (0, 10000),\n",
        "        \"annual_inc\": (0, 10**10),\n",
        "        \"dti\": (0, 100),\n",
        "        \"delinq_2yrs\": (0, 10**10),\n",
        "        \"open_acc\": (0, 10*10),\n",
        "        \"pub_rec\": (0, 100),\n",
        "        \"revol_bal\": (0, 10**10),\n",
        "        \"revol_util\": (0, 100),\n",
        "        \"total_acc\": (0, 100)\n",
        "    }\n",
        "\n",
        "    for col_name, (minimum, maximum) in ranges.items():\n",
        "\n",
        "        assert data[col_name].dropna().between(minimum, maximum).all(), (\n",
        "            f\"Column {col_name} failed the test. Should be between {minimum} and {maximum}, \"\n",
        "            f\"instead min={data[col_name].min()} and max={data[col_name].max()}\"\n",
        "        )"
      ]
    },
    {
      "cell_type": "markdown",
      "metadata": {
        "id": "XTBnZ3-vVe0p"
      },
      "source": [
        "Now lets run pytest"
      ]
    },
    {
      "cell_type": "code",
      "execution_count": 5,
      "metadata": {
        "colab": {
          "base_uri": "https://localhost:8080/"
        },
        "id": "DXBQkMc8VeD8",
        "outputId": "c8301bb3-bce5-40b2-8969-e6b3b0de090b"
      },
      "outputs": [
        {
          "name": "stdout",
          "output_type": "stream",
          "text": [
            "\u001b[1m============================= test session starts ==============================\u001b[0m\n",
            "platform darwin -- Python 3.11.8, pytest-7.2.2, pluggy-1.2.0 -- /opt/homebrew/opt/python@3.11/bin/python3.11\n",
            "cachedir: .pytest_cache\n",
            "rootdir: /Users/phamdinhkhanh/Documents/Courses/DataScienceWorld.Kan/MLOps/credit_risk_mlops/notebooks\n",
            "plugins: anyio-3.7.1, time-machine-2.14.1\n",
            "collected 5 items                                                              \u001b[0m\u001b[1m\n",
            "\n",
            "test_data.py::test_data_length \u001b[32mPASSED\u001b[0m\u001b[32m                                    [ 20%]\u001b[0m\n",
            "test_data.py::test_number_of_columns \u001b[32mPASSED\u001b[0m\u001b[32m                              [ 40%]\u001b[0m\n",
            "test_data.py::test_column_presence_and_type \u001b[32mPASSED\u001b[0m\u001b[32m                       [ 60%]\u001b[0m\n",
            "test_data.py::test_class_names \u001b[32mPASSED\u001b[0m\u001b[32m                                    [ 80%]\u001b[0m\n",
            "test_data.py::test_column_ranges \u001b[32mPASSED\u001b[0m\u001b[32m                                  [100%]\u001b[0m\n",
            "\n",
            "\u001b[32m============================== \u001b[32m\u001b[1m5 passed\u001b[0m\u001b[32m in 8.34s\u001b[0m\u001b[32m ===============================\u001b[0m\n"
          ]
        }
      ],
      "source": [
        "!pytest . -vv"
      ]
    },
    {
      "cell_type": "code",
      "execution_count": 7,
      "metadata": {
        "id": "5284u1A7euMF"
      },
      "outputs": [],
      "source": [
        "# close the run\n",
        "# waiting a while after run the previous cell before execute this\n",
        "# run.finish()"
      ]
    },
    {
      "cell_type": "code",
      "execution_count": null,
      "metadata": {},
      "outputs": [],
      "source": []
    }
  ],
  "metadata": {
    "colab": {
      "collapsed_sections": [],
      "name": "4 - data_check.ipynb",
      "provenance": []
    },
    "kernelspec": {
      "display_name": ".venv",
      "language": "python",
      "name": "python3"
    },
    "language_info": {
      "codemirror_mode": {
        "name": "ipython",
        "version": 3
      },
      "file_extension": ".py",
      "mimetype": "text/x-python",
      "name": "python",
      "nbconvert_exporter": "python",
      "pygments_lexer": "ipython3",
      "version": "3.8.19"
    }
  },
  "nbformat": 4,
  "nbformat_minor": 0
}
