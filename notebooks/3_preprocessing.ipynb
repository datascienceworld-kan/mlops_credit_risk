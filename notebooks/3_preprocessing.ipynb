{
  "cells": [
    {
      "cell_type": "markdown",
      "metadata": {
        "id": "0I4pgzLVtBTP"
      },
      "source": [
        "# 1.0 An end-to-end classification problem (ETL)\n",
        "\n"
      ]
    },
    {
      "cell_type": "markdown",
      "metadata": {
        "id": "Dh34gim6KPtT"
      },
      "source": [
        "## 1.1 Dataset description"
      ]
    },
    {
      "cell_type": "markdown",
      "metadata": {
        "id": "iE8OJoDZ5AFK"
      },
      "source": [
        "The notebooks focus on a borrower's **credit modeling problem**. The database was downloaded through a dataquest project and is available at link below. The data is from **Lending Club** and contains data from loans made in the period **2007 to 2011**. Lending Club is a marketplace for personal loans that matches borrowers who are seeking a loan with investors looking to lend money and make a return. The **target variable**, or what we are wanting to predict, is whether or not, given a person's history, they will repay the loan.\n",
        "\n",
        "You can download the data from the [Kaggle](https://www.kaggle.com/datasets/samaxtech/lending-club-20072011-data).\n",
        "\n",
        "Let's take the following steps:\n",
        "\n",
        "1. Load Libraries\n",
        "2. Fetch Data, including EDA\n",
        "3. Pre-procesing\n",
        "4. Data Segregation\n",
        "\n",
        "<center><img width=\"600\" src=\"https://drive.google.com/uc?export=view&id=1fKGuR5U5ECf7On6Zo1UWzAIWZrMmZnGc\"></center>"
      ]
    },
    {
      "cell_type": "markdown",
      "metadata": {
        "id": "7UpxKxU1Ej7f"
      },
      "source": [
        "## 1.2 Install and load libraries"
      ]
    },
    {
      "cell_type": "code",
      "execution_count": 1,
      "metadata": {
        "id": "t82KewAPWCYe"
      },
      "outputs": [],
      "source": [
        "# !pip install wandb"
      ]
    },
    {
      "cell_type": "code",
      "execution_count": 2,
      "metadata": {
        "id": "LASaVZuhRJlL"
      },
      "outputs": [],
      "source": [
        "import wandb\n",
        "import pandas as pd"
      ]
    },
    {
      "cell_type": "code",
      "execution_count": 3,
      "metadata": {
        "id": "5oPwazXXTWoK"
      },
      "outputs": [],
      "source": [
        "import warnings\n",
        "warnings.filterwarnings('ignore')"
      ]
    },
    {
      "cell_type": "markdown",
      "metadata": {
        "id": "Z74pHa-qHVrT"
      },
      "source": [
        "## 1.3 Preprocessing"
      ]
    },
    {
      "cell_type": "markdown",
      "metadata": {
        "id": "MxzlOezZLWQ_"
      },
      "source": [
        "### 1.3.1 Login wandb\n"
      ]
    },
    {
      "cell_type": "code",
      "execution_count": 4,
      "metadata": {},
      "outputs": [],
      "source": [
        "import os\n",
        "from dotenv import load_dotenv\n",
        "load_dotenv()\n",
        "\n",
        "WANDB_API_KEY=os.environ.get('WANDB_API_KEY')"
      ]
    },
    {
      "cell_type": "code",
      "execution_count": 6,
      "metadata": {
        "colab": {
          "base_uri": "https://localhost:8080/"
        },
        "id": "xvG-dYfiVwM9",
        "outputId": "0538d5c1-ec20-4fb7-edc4-232e119e4750"
      },
      "outputs": [
        {
          "name": "stdout",
          "output_type": "stream",
          "text": [
            "\u001b[34m\u001b[1mwandb\u001b[0m: Appending key for api.wandb.ai to your netrc file: /Users/phamdinhkhanh/.netrc\n",
            "\u001b[34m\u001b[1mwandb\u001b[0m: W&B API key is configured. Use \u001b[1m`wandb login --relogin`\u001b[0m to force relogin\n"
          ]
        }
      ],
      "source": [
        "# Login to Weights & Biases\n",
        "!wandb login --relogin $WANDB_API_KEY"
      ]
    },
    {
      "cell_type": "markdown",
      "metadata": {
        "id": "3GrAiPvGm0kl"
      },
      "source": [
        "### 1.3.2 Artifacts"
      ]
    },
    {
      "cell_type": "code",
      "execution_count": 7,
      "metadata": {
        "id": "dBiQMbchm78L"
      },
      "outputs": [],
      "source": [
        "input_artifact=\"risk_credit/raw_data.csv:latest\"\n",
        "artifact_name=\"preprocessed_data.csv\"\n",
        "artifact_type=\"clean_data\"\n",
        "artifact_description=\"Data after preprocessing\""
      ]
    },
    {
      "cell_type": "markdown",
      "metadata": {
        "id": "18RAS5kFXPAe"
      },
      "source": [
        "### 1.3.3 Setup your wandb project and clean the dataset"
      ]
    },
    {
      "cell_type": "markdown",
      "metadata": {
        "id": "C6YkQ8SOn3qo"
      },
      "source": [
        "After the fetch step the raw data artifact was generated.\n",
        "Now, we need to pre-processing the raw data to create a new artfiact (clean_data)."
      ]
    },
    {
      "cell_type": "code",
      "execution_count": 8,
      "metadata": {
        "colab": {
          "base_uri": "https://localhost:8080/",
          "height": 87
        },
        "id": "5kKY7pRNSGo9",
        "outputId": "c7b2be11-f491-4a97-c203-466e692e2be2"
      },
      "outputs": [
        {
          "name": "stderr",
          "output_type": "stream",
          "text": [
            "\u001b[34m\u001b[1mwandb\u001b[0m: Using wandb-core as the SDK backend.  Please refer to https://wandb.me/wandb-core for more information.\n",
            "\u001b[34m\u001b[1mwandb\u001b[0m: Currently logged in as: \u001b[33maikhanhblog\u001b[0m (\u001b[33maikhanhblog-datascienceworld-kan\u001b[0m). Use \u001b[1m`wandb login --relogin`\u001b[0m to force relogin\n"
          ]
        },
        {
          "data": {
            "text/html": [
              "Tracking run with wandb version 0.18.7"
            ],
            "text/plain": [
              "<IPython.core.display.HTML object>"
            ]
          },
          "metadata": {},
          "output_type": "display_data"
        },
        {
          "data": {
            "text/html": [
              "Run data is saved locally in <code>/Users/phamdinhkhanh/Documents/Courses/DataScienceWorld.Kan/MLOps/credit_risk_mlops/notebooks/wandb/run-20250323_155305-0lzr1818</code>"
            ],
            "text/plain": [
              "<IPython.core.display.HTML object>"
            ]
          },
          "metadata": {},
          "output_type": "display_data"
        },
        {
          "data": {
            "text/html": [
              "Syncing run <strong><a href='https://wandb.ai/aikhanhblog-datascienceworld-kan/risk_credit/runs/0lzr1818' target=\"_blank\">rosy-frog-7</a></strong> to <a href='https://wandb.ai/aikhanhblog-datascienceworld-kan/risk_credit' target=\"_blank\">Weights & Biases</a> (<a href='https://wandb.me/developer-guide' target=\"_blank\">docs</a>)<br/>"
            ],
            "text/plain": [
              "<IPython.core.display.HTML object>"
            ]
          },
          "metadata": {},
          "output_type": "display_data"
        },
        {
          "data": {
            "text/html": [
              " View project at <a href='https://wandb.ai/aikhanhblog-datascienceworld-kan/risk_credit' target=\"_blank\">https://wandb.ai/aikhanhblog-datascienceworld-kan/risk_credit</a>"
            ],
            "text/plain": [
              "<IPython.core.display.HTML object>"
            ]
          },
          "metadata": {},
          "output_type": "display_data"
        },
        {
          "data": {
            "text/html": [
              " View run at <a href='https://wandb.ai/aikhanhblog-datascienceworld-kan/risk_credit/runs/0lzr1818' target=\"_blank\">https://wandb.ai/aikhanhblog-datascienceworld-kan/risk_credit/runs/0lzr1818</a>"
            ],
            "text/plain": [
              "<IPython.core.display.HTML object>"
            ]
          },
          "metadata": {},
          "output_type": "display_data"
        }
      ],
      "source": [
        "# Create a new job_type\n",
        "run = wandb.init(project=\"risk_credit\", job_type=\"process_data\")"
      ]
    },
    {
      "cell_type": "code",
      "execution_count": 9,
      "metadata": {
        "id": "H6eyFp6XTLyf"
      },
      "outputs": [],
      "source": [
        "# Donwload the latest version of artifact raw_data.csv\n",
        "artifact = run.use_artifact(input_artifact)\n",
        "\n",
        "# Create a dataframe from the artifact\n",
        "df = pd.read_csv(artifact.file())"
      ]
    },
    {
      "cell_type": "code",
      "execution_count": 10,
      "metadata": {
        "colab": {
          "base_uri": "https://localhost:8080/",
          "height": 386
        },
        "id": "IHHIoAFsOP_G",
        "outputId": "480ab398-f47b-430a-ed2a-5195697ef0fb"
      },
      "outputs": [
        {
          "data": {
            "text/html": [
              "<div>\n",
              "<style scoped>\n",
              "    .dataframe tbody tr th:only-of-type {\n",
              "        vertical-align: middle;\n",
              "    }\n",
              "\n",
              "    .dataframe tbody tr th {\n",
              "        vertical-align: top;\n",
              "    }\n",
              "\n",
              "    .dataframe thead th {\n",
              "        text-align: right;\n",
              "    }\n",
              "</style>\n",
              "<table border=\"1\" class=\"dataframe\">\n",
              "  <thead>\n",
              "    <tr style=\"text-align: right;\">\n",
              "      <th></th>\n",
              "      <th>id</th>\n",
              "      <th>member_id</th>\n",
              "      <th>loan_amnt</th>\n",
              "      <th>funded_amnt</th>\n",
              "      <th>funded_amnt_inv</th>\n",
              "      <th>term</th>\n",
              "      <th>int_rate</th>\n",
              "      <th>installment</th>\n",
              "      <th>grade</th>\n",
              "      <th>sub_grade</th>\n",
              "      <th>...</th>\n",
              "      <th>last_pymnt_amnt</th>\n",
              "      <th>last_credit_pull_d</th>\n",
              "      <th>collections_12_mths_ex_med</th>\n",
              "      <th>policy_code</th>\n",
              "      <th>application_type</th>\n",
              "      <th>acc_now_delinq</th>\n",
              "      <th>chargeoff_within_12_mths</th>\n",
              "      <th>delinq_amnt</th>\n",
              "      <th>pub_rec_bankruptcies</th>\n",
              "      <th>tax_liens</th>\n",
              "    </tr>\n",
              "  </thead>\n",
              "  <tbody>\n",
              "    <tr>\n",
              "      <th>0</th>\n",
              "      <td>1077501</td>\n",
              "      <td>1296599.0</td>\n",
              "      <td>5000.0</td>\n",
              "      <td>5000.0</td>\n",
              "      <td>4975.0</td>\n",
              "      <td>36 months</td>\n",
              "      <td>10.65%</td>\n",
              "      <td>162.87</td>\n",
              "      <td>B</td>\n",
              "      <td>B2</td>\n",
              "      <td>...</td>\n",
              "      <td>171.62</td>\n",
              "      <td>Jun-2016</td>\n",
              "      <td>0.0</td>\n",
              "      <td>1.0</td>\n",
              "      <td>INDIVIDUAL</td>\n",
              "      <td>0.0</td>\n",
              "      <td>0.0</td>\n",
              "      <td>0.0</td>\n",
              "      <td>0.0</td>\n",
              "      <td>0.0</td>\n",
              "    </tr>\n",
              "    <tr>\n",
              "      <th>1</th>\n",
              "      <td>1077430</td>\n",
              "      <td>1314167.0</td>\n",
              "      <td>2500.0</td>\n",
              "      <td>2500.0</td>\n",
              "      <td>2500.0</td>\n",
              "      <td>60 months</td>\n",
              "      <td>15.27%</td>\n",
              "      <td>59.83</td>\n",
              "      <td>C</td>\n",
              "      <td>C4</td>\n",
              "      <td>...</td>\n",
              "      <td>119.66</td>\n",
              "      <td>Sep-2013</td>\n",
              "      <td>0.0</td>\n",
              "      <td>1.0</td>\n",
              "      <td>INDIVIDUAL</td>\n",
              "      <td>0.0</td>\n",
              "      <td>0.0</td>\n",
              "      <td>0.0</td>\n",
              "      <td>0.0</td>\n",
              "      <td>0.0</td>\n",
              "    </tr>\n",
              "    <tr>\n",
              "      <th>2</th>\n",
              "      <td>1077175</td>\n",
              "      <td>1313524.0</td>\n",
              "      <td>2400.0</td>\n",
              "      <td>2400.0</td>\n",
              "      <td>2400.0</td>\n",
              "      <td>36 months</td>\n",
              "      <td>15.96%</td>\n",
              "      <td>84.33</td>\n",
              "      <td>C</td>\n",
              "      <td>C5</td>\n",
              "      <td>...</td>\n",
              "      <td>649.91</td>\n",
              "      <td>Jun-2016</td>\n",
              "      <td>0.0</td>\n",
              "      <td>1.0</td>\n",
              "      <td>INDIVIDUAL</td>\n",
              "      <td>0.0</td>\n",
              "      <td>0.0</td>\n",
              "      <td>0.0</td>\n",
              "      <td>0.0</td>\n",
              "      <td>0.0</td>\n",
              "    </tr>\n",
              "    <tr>\n",
              "      <th>3</th>\n",
              "      <td>1076863</td>\n",
              "      <td>1277178.0</td>\n",
              "      <td>10000.0</td>\n",
              "      <td>10000.0</td>\n",
              "      <td>10000.0</td>\n",
              "      <td>36 months</td>\n",
              "      <td>13.49%</td>\n",
              "      <td>339.31</td>\n",
              "      <td>C</td>\n",
              "      <td>C1</td>\n",
              "      <td>...</td>\n",
              "      <td>357.48</td>\n",
              "      <td>Apr-2016</td>\n",
              "      <td>0.0</td>\n",
              "      <td>1.0</td>\n",
              "      <td>INDIVIDUAL</td>\n",
              "      <td>0.0</td>\n",
              "      <td>0.0</td>\n",
              "      <td>0.0</td>\n",
              "      <td>0.0</td>\n",
              "      <td>0.0</td>\n",
              "    </tr>\n",
              "    <tr>\n",
              "      <th>4</th>\n",
              "      <td>1075358</td>\n",
              "      <td>1311748.0</td>\n",
              "      <td>3000.0</td>\n",
              "      <td>3000.0</td>\n",
              "      <td>3000.0</td>\n",
              "      <td>60 months</td>\n",
              "      <td>12.69%</td>\n",
              "      <td>67.79</td>\n",
              "      <td>B</td>\n",
              "      <td>B5</td>\n",
              "      <td>...</td>\n",
              "      <td>67.79</td>\n",
              "      <td>Jun-2016</td>\n",
              "      <td>0.0</td>\n",
              "      <td>1.0</td>\n",
              "      <td>INDIVIDUAL</td>\n",
              "      <td>0.0</td>\n",
              "      <td>0.0</td>\n",
              "      <td>0.0</td>\n",
              "      <td>0.0</td>\n",
              "      <td>0.0</td>\n",
              "    </tr>\n",
              "  </tbody>\n",
              "</table>\n",
              "<p>5 rows × 52 columns</p>\n",
              "</div>"
            ],
            "text/plain": [
              "        id  member_id  loan_amnt  funded_amnt  funded_amnt_inv        term  \\\n",
              "0  1077501  1296599.0     5000.0       5000.0           4975.0   36 months   \n",
              "1  1077430  1314167.0     2500.0       2500.0           2500.0   60 months   \n",
              "2  1077175  1313524.0     2400.0       2400.0           2400.0   36 months   \n",
              "3  1076863  1277178.0    10000.0      10000.0          10000.0   36 months   \n",
              "4  1075358  1311748.0     3000.0       3000.0           3000.0   60 months   \n",
              "\n",
              "  int_rate  installment grade sub_grade  ... last_pymnt_amnt  \\\n",
              "0   10.65%       162.87     B        B2  ...          171.62   \n",
              "1   15.27%        59.83     C        C4  ...          119.66   \n",
              "2   15.96%        84.33     C        C5  ...          649.91   \n",
              "3   13.49%       339.31     C        C1  ...          357.48   \n",
              "4   12.69%        67.79     B        B5  ...           67.79   \n",
              "\n",
              "  last_credit_pull_d collections_12_mths_ex_med  policy_code application_type  \\\n",
              "0           Jun-2016                        0.0          1.0       INDIVIDUAL   \n",
              "1           Sep-2013                        0.0          1.0       INDIVIDUAL   \n",
              "2           Jun-2016                        0.0          1.0       INDIVIDUAL   \n",
              "3           Apr-2016                        0.0          1.0       INDIVIDUAL   \n",
              "4           Jun-2016                        0.0          1.0       INDIVIDUAL   \n",
              "\n",
              "  acc_now_delinq chargeoff_within_12_mths delinq_amnt pub_rec_bankruptcies  \\\n",
              "0            0.0                      0.0         0.0                  0.0   \n",
              "1            0.0                      0.0         0.0                  0.0   \n",
              "2            0.0                      0.0         0.0                  0.0   \n",
              "3            0.0                      0.0         0.0                  0.0   \n",
              "4            0.0                      0.0         0.0                  0.0   \n",
              "\n",
              "  tax_liens  \n",
              "0       0.0  \n",
              "1       0.0  \n",
              "2       0.0  \n",
              "3       0.0  \n",
              "4       0.0  \n",
              "\n",
              "[5 rows x 52 columns]"
            ]
          },
          "execution_count": 10,
          "metadata": {},
          "output_type": "execute_result"
        }
      ],
      "source": [
        "df.head()"
      ]
    },
    {
      "cell_type": "code",
      "execution_count": 11,
      "metadata": {
        "colab": {
          "base_uri": "https://localhost:8080/"
        },
        "id": "UHx9U4q4MP24",
        "outputId": "cdf83dc1-de87-4309-f20a-e5f8b1a9d731"
      },
      "outputs": [
        {
          "name": "stdout",
          "output_type": "stream",
          "text": [
            "Shape before cleaning:  (42538, 52)\n"
          ]
        }
      ],
      "source": [
        "print(\"Shape before cleaning: \", df.shape)"
      ]
    },
    {
      "cell_type": "markdown",
      "metadata": {
        "id": "GkZqWsUAWXrq"
      },
      "source": [
        "The target column (loan status) has values like Fully Paid, Charged Off, Late, In Grace Period etc., we will select the rows with the values Fully Paid and Charged Off."
      ]
    },
    {
      "cell_type": "code",
      "execution_count": 12,
      "metadata": {
        "id": "XPF9-8vfWSQx"
      },
      "outputs": [],
      "source": [
        "# Selecting rows with the Fully Paid and Charged Off\n",
        "df = df[((df['loan_status'] == 'Fully Paid') | (df['loan_status'] == 'Charged Off'))]"
      ]
    },
    {
      "cell_type": "code",
      "execution_count": 13,
      "metadata": {
        "colab": {
          "base_uri": "https://localhost:8080/"
        },
        "id": "GeWSJVj2WSzr",
        "outputId": "ddb89c9d-7db6-4b4f-e493-c5317e140e1a"
      },
      "outputs": [
        {
          "data": {
            "text/plain": [
              "0         Fully Paid\n",
              "1        Charged Off\n",
              "2         Fully Paid\n",
              "3         Fully Paid\n",
              "5         Fully Paid\n",
              "            ...     \n",
              "39781     Fully Paid\n",
              "39782     Fully Paid\n",
              "39783     Fully Paid\n",
              "39784     Fully Paid\n",
              "39785     Fully Paid\n",
              "Name: loan_status, Length: 38770, dtype: object"
            ]
          },
          "execution_count": 13,
          "metadata": {},
          "output_type": "execute_result"
        }
      ],
      "source": [
        "df['loan_status']"
      ]
    },
    {
      "cell_type": "code",
      "execution_count": 14,
      "metadata": {
        "colab": {
          "base_uri": "https://localhost:8080/"
        },
        "id": "_3MOqsPnWcva",
        "outputId": "61ff3406-26c7-45e5-d062-9b942e1f4e59"
      },
      "outputs": [
        {
          "data": {
            "text/plain": [
              "loan_status\n",
              "Fully Paid     33136\n",
              "Charged Off     5634\n",
              "Name: count, dtype: int64"
            ]
          },
          "execution_count": 14,
          "metadata": {},
          "output_type": "execute_result"
        }
      ],
      "source": [
        "df['loan_status'].value_counts()"
      ]
    },
    {
      "cell_type": "code",
      "execution_count": 15,
      "metadata": {
        "id": "EgaB5wamFhHF"
      },
      "outputs": [],
      "source": [
        "# Dropping irrelevant and redundant columns\n",
        "columns_to_drop_1 = ['id','member_id', 'funded_amnt', 'funded_amnt_inv', 'grade', 'sub_grade', 'emp_title', 'issue_d',\n",
        "                   'zip_code']\n",
        "df.drop(columns_to_drop_1, axis=1, inplace=True)"
      ]
    },
    {
      "cell_type": "code",
      "execution_count": 16,
      "metadata": {
        "id": "r7aNvbCgIAGk"
      },
      "outputs": [],
      "source": [
        "# Dropping columns with data leakage\n",
        "columns_to_drop_2 = ['out_prncp','out_prncp_inv','total_pymnt','total_pymnt_inv','total_rec_prncp',\n",
        "                   'total_rec_int','total_rec_late_fee','recoveries','collection_recovery_fee',\n",
        "                   'last_pymnt_d', 'last_pymnt_amnt']\n",
        "df.drop(columns_to_drop_2, axis=1, inplace=True)"
      ]
    },
    {
      "cell_type": "code",
      "execution_count": 17,
      "metadata": {
        "colab": {
          "base_uri": "https://localhost:8080/"
        },
        "id": "GLCopCloJXlG",
        "outputId": "e6ff99fa-b61f-493c-9859-2b589c96d212"
      },
      "outputs": [
        {
          "name": "stdout",
          "output_type": "stream",
          "text": [
            "['pymnt_plan', 'initial_list_status', 'collections_12_mths_ex_med', 'policy_code', 'application_type', 'acc_now_delinq', 'chargeoff_within_12_mths', 'delinq_amnt', 'tax_liens']\n"
          ]
        }
      ],
      "source": [
        "# Dropping columns with only one unique value\n",
        "after_columns = df.columns\n",
        "drop_columns = []\n",
        "\n",
        "for c in after_columns:\n",
        "  # Drop any null values\n",
        "  col_series = df[c].dropna().unique()\n",
        "\n",
        "  # Remove the columns if there is only one unique value\n",
        "  if(len(col_series) == 1):\n",
        "    drop_columns.append(c)\n",
        "\n",
        "df.drop(drop_columns, axis=1, inplace=True)\n",
        "print(drop_columns)"
      ]
    },
    {
      "cell_type": "code",
      "execution_count": 18,
      "metadata": {
        "colab": {
          "base_uri": "https://localhost:8080/"
        },
        "id": "3P_ospkHPVwg",
        "outputId": "5d0f7f03-212a-4b3b-b3a7-aabe0649e287"
      },
      "outputs": [
        {
          "name": "stdout",
          "output_type": "stream",
          "text": [
            "Shape after dropping cols:  (38770, 23)\n"
          ]
        }
      ],
      "source": [
        "print(\"Shape after dropping cols: \", df.shape)"
      ]
    },
    {
      "cell_type": "code",
      "execution_count": 19,
      "metadata": {
        "colab": {
          "base_uri": "https://localhost:8080/"
        },
        "id": "o3sVzldfckp2",
        "outputId": "f05e789b-0623-4189-b2be-00384f8b2301"
      },
      "outputs": [
        {
          "data": {
            "text/plain": [
              "loan_amnt                  0\n",
              "term                       0\n",
              "int_rate                   0\n",
              "installment                0\n",
              "emp_length              1036\n",
              "home_ownership             0\n",
              "annual_inc                 0\n",
              "verification_status        0\n",
              "loan_status                0\n",
              "purpose                    0\n",
              "title                     11\n",
              "addr_state                 0\n",
              "dti                        0\n",
              "delinq_2yrs                0\n",
              "earliest_cr_line           0\n",
              "inq_last_6mths             0\n",
              "open_acc                   0\n",
              "pub_rec                    0\n",
              "revol_bal                  0\n",
              "revol_util                50\n",
              "total_acc                  0\n",
              "last_credit_pull_d         2\n",
              "pub_rec_bankruptcies     697\n",
              "dtype: int64"
            ]
          },
          "execution_count": 19,
          "metadata": {},
          "output_type": "execute_result"
        }
      ],
      "source": [
        "#Verifing null lines\n",
        "null_counts = df.isnull().sum()\n",
        "null_counts"
      ]
    },
    {
      "cell_type": "code",
      "execution_count": 20,
      "metadata": {
        "id": "BaCQEe3Ydxqe"
      },
      "outputs": [],
      "source": [
        "#Deleting pub_rec_bankruptcies\n",
        "df.drop(['pub_rec_bankruptcies'], axis=1, inplace=True)\n",
        "df = df.dropna()"
      ]
    },
    {
      "cell_type": "code",
      "execution_count": 21,
      "metadata": {
        "colab": {
          "base_uri": "https://localhost:8080/"
        },
        "id": "FEu_Oi8xQQ4_",
        "outputId": "0d814533-c8e0-41b9-e668-0a9d28df0fce"
      },
      "outputs": [
        {
          "name": "stdout",
          "output_type": "stream",
          "text": [
            "Shape after cleaning:  (37675, 22)\n"
          ]
        }
      ],
      "source": [
        "print(\"Shape after cleaning: \", df.shape)"
      ]
    },
    {
      "cell_type": "code",
      "execution_count": 22,
      "metadata": {
        "colab": {
          "base_uri": "https://localhost:8080/"
        },
        "id": "IVDzhOcTeHwu",
        "outputId": "a1901181-482f-45b1-98d3-f9ef347367eb"
      },
      "outputs": [
        {
          "name": "stdout",
          "output_type": "stream",
          "text": [
            "object     12\n",
            "float64    10\n",
            "Name: count, dtype: int64\n"
          ]
        }
      ],
      "source": [
        "print(df.dtypes.value_counts())"
      ]
    },
    {
      "cell_type": "code",
      "execution_count": 23,
      "metadata": {
        "colab": {
          "base_uri": "https://localhost:8080/"
        },
        "id": "AVD0KIpaWtxE",
        "outputId": "8fb56245-0a04-4281-8486-b52c55da0f91"
      },
      "outputs": [
        {
          "data": {
            "text/plain": [
              "loan_status\n",
              "Fully Paid     32286\n",
              "Charged Off     5389\n",
              "Name: count, dtype: int64"
            ]
          },
          "execution_count": 23,
          "metadata": {},
          "output_type": "execute_result"
        }
      ],
      "source": [
        "df['loan_status'].value_counts()"
      ]
    },
    {
      "cell_type": "code",
      "execution_count": 24,
      "metadata": {
        "colab": {
          "base_uri": "https://localhost:8080/"
        },
        "id": "TibD2qExe_py",
        "outputId": "47bb63f6-212d-496c-c479-979ecb012f02"
      },
      "outputs": [
        {
          "name": "stdout",
          "output_type": "stream",
          "text": [
            "home_ownership\n",
            "RENT        18112\n",
            "MORTGAGE    16686\n",
            "OWN          2778\n",
            "OTHER          96\n",
            "NONE            3\n",
            "Name: count, dtype: int64\n",
            "verification_status\n",
            "Not Verified       16281\n",
            "Verified           11856\n",
            "Source Verified     9538\n",
            "Name: count, dtype: int64\n",
            "emp_length\n",
            "10+ years    8545\n",
            "< 1 year     4513\n",
            "2 years      4303\n",
            "3 years      4022\n",
            "4 years      3353\n",
            "5 years      3202\n",
            "1 year       3176\n",
            "6 years      2177\n",
            "7 years      1714\n",
            "8 years      1442\n",
            "9 years      1228\n",
            "Name: count, dtype: int64\n",
            "term\n",
            " 36 months    28234\n",
            " 60 months     9441\n",
            "Name: count, dtype: int64\n",
            "addr_state\n",
            "CA    6776\n",
            "NY    3614\n",
            "FL    2704\n",
            "TX    2613\n",
            "NJ    1776\n",
            "IL    1447\n",
            "PA    1442\n",
            "VA    1347\n",
            "GA    1323\n",
            "MA    1272\n",
            "OH    1149\n",
            "MD    1008\n",
            "AZ     807\n",
            "WA     788\n",
            "CO     748\n",
            "NC     729\n",
            "CT     711\n",
            "MI     678\n",
            "MO     648\n",
            "MN     581\n",
            "NV     466\n",
            "SC     454\n",
            "WI     427\n",
            "OR     422\n",
            "LA     420\n",
            "AL     420\n",
            "KY     311\n",
            "OK     285\n",
            "KS     249\n",
            "UT     249\n",
            "AR     229\n",
            "DC     209\n",
            "RI     194\n",
            "NM     180\n",
            "WV     164\n",
            "HI     162\n",
            "NH     157\n",
            "DE     110\n",
            "MT      77\n",
            "WY      76\n",
            "AK      76\n",
            "SD      60\n",
            "VT      53\n",
            "MS      19\n",
            "TN      17\n",
            "IN       9\n",
            "ID       6\n",
            "IA       5\n",
            "NE       5\n",
            "ME       3\n",
            "Name: count, dtype: int64\n"
          ]
        }
      ],
      "source": [
        "cols = ['home_ownership', 'verification_status', 'emp_length', 'term', 'addr_state']\n",
        "for c in cols:\n",
        "    print(df[c].value_counts())"
      ]
    },
    {
      "cell_type": "code",
      "execution_count": 25,
      "metadata": {
        "colab": {
          "base_uri": "https://localhost:8080/"
        },
        "id": "A75prle9fEAV",
        "outputId": "088d29ca-3d4f-44f1-f539-d077bda5dae6"
      },
      "outputs": [
        {
          "name": "stdout",
          "output_type": "stream",
          "text": [
            "title\n",
            "Debt Consolidation            2068\n",
            "Debt Consolidation Loan       1599\n",
            "Personal Loan                  624\n",
            "Consolidation                  488\n",
            "debt consolidation             466\n",
            "                              ... \n",
            "Legal                            1\n",
            "Ryan's Debt Consolidation        1\n",
            "Be Debt Free                     1\n",
            "Discover HSBC                    1\n",
            "JAL Loan                         1\n",
            "Name: count, Length: 18881, dtype: int64\n",
            "purpose\n",
            "debt_consolidation    17751\n",
            "credit_card            4911\n",
            "other                  3711\n",
            "home_improvement       2808\n",
            "major_purchase         2083\n",
            "small_business         1719\n",
            "car                    1459\n",
            "wedding                 916\n",
            "medical                 655\n",
            "moving                  552\n",
            "house                   356\n",
            "vacation                348\n",
            "educational             312\n",
            "renewable_energy         94\n",
            "Name: count, dtype: int64\n"
          ]
        }
      ],
      "source": [
        "print(df['title'].value_counts())\n",
        "print(df['purpose'].value_counts())"
      ]
    },
    {
      "cell_type": "code",
      "execution_count": 26,
      "metadata": {
        "id": "7WdC_yZefLqE"
      },
      "outputs": [],
      "source": [
        "# For performance questions, let's drop the following columns\n",
        "df.drop([\"last_credit_pull_d\", \"earliest_cr_line\", \"addr_state\", \"title\"], axis=1, inplace=True)"
      ]
    },
    {
      "cell_type": "code",
      "execution_count": 27,
      "metadata": {
        "id": "dgpsRQXXRsu9"
      },
      "outputs": [],
      "source": [
        "# let's convert 'int_rate' and 'revol_util' to float columns\n",
        "df[\"int_rate\"] = df[\"int_rate\"].str.rstrip(\"%\").astype(\"float\")\n",
        "df[\"revol_util\"] = df[\"revol_util\"].str.rstrip(\"%\").astype(\"float\")"
      ]
    },
    {
      "cell_type": "code",
      "execution_count": 28,
      "metadata": {
        "colab": {
          "base_uri": "https://localhost:8080/"
        },
        "id": "-j4j7zkQhPMc",
        "outputId": "ee1bfb7f-d252-4104-e250-23020a8232d7"
      },
      "outputs": [
        {
          "data": {
            "text/plain": [
              "(37675, 18)"
            ]
          },
          "execution_count": 28,
          "metadata": {},
          "output_type": "execute_result"
        }
      ],
      "source": [
        "df.shape"
      ]
    },
    {
      "cell_type": "code",
      "execution_count": 29,
      "metadata": {
        "colab": {
          "base_uri": "https://localhost:8080/"
        },
        "id": "9Hds0GkWnaGV",
        "outputId": "b3c3638c-d4a3-4879-c83d-b0913cf01382"
      },
      "outputs": [
        {
          "data": {
            "text/plain": [
              "float64    12\n",
              "object      6\n",
              "Name: count, dtype: int64"
            ]
          },
          "execution_count": 29,
          "metadata": {},
          "output_type": "execute_result"
        }
      ],
      "source": [
        "df.dtypes.value_counts()"
      ]
    },
    {
      "cell_type": "code",
      "execution_count": 30,
      "metadata": {
        "colab": {
          "base_uri": "https://localhost:8080/"
        },
        "id": "hNgwn-A2NGS-",
        "outputId": "c689eed9-d35a-4b14-f4c0-1817d028ae06"
      },
      "outputs": [
        {
          "name": "stdout",
          "output_type": "stream",
          "text": [
            "<class 'pandas.core.frame.DataFrame'>\n",
            "Index: 37675 entries, 0 to 39785\n",
            "Data columns (total 18 columns):\n",
            " #   Column               Non-Null Count  Dtype  \n",
            "---  ------               --------------  -----  \n",
            " 0   loan_amnt            37675 non-null  float64\n",
            " 1   term                 37675 non-null  object \n",
            " 2   int_rate             37675 non-null  float64\n",
            " 3   installment          37675 non-null  float64\n",
            " 4   emp_length           37675 non-null  object \n",
            " 5   home_ownership       37675 non-null  object \n",
            " 6   annual_inc           37675 non-null  float64\n",
            " 7   verification_status  37675 non-null  object \n",
            " 8   loan_status          37675 non-null  object \n",
            " 9   purpose              37675 non-null  object \n",
            " 10  dti                  37675 non-null  float64\n",
            " 11  delinq_2yrs          37675 non-null  float64\n",
            " 12  inq_last_6mths       37675 non-null  float64\n",
            " 13  open_acc             37675 non-null  float64\n",
            " 14  pub_rec              37675 non-null  float64\n",
            " 15  revol_bal            37675 non-null  float64\n",
            " 16  revol_util           37675 non-null  float64\n",
            " 17  total_acc            37675 non-null  float64\n",
            "dtypes: float64(12), object(6)\n",
            "memory usage: 5.5+ MB\n"
          ]
        }
      ],
      "source": [
        "df.info()"
      ]
    },
    {
      "cell_type": "code",
      "execution_count": 31,
      "metadata": {
        "colab": {
          "base_uri": "https://localhost:8080/",
          "height": 357
        },
        "id": "16n65WsmNXZw",
        "outputId": "c306fcb3-1c25-441b-ae39-bd8d180022e6"
      },
      "outputs": [
        {
          "data": {
            "text/html": [
              "<div>\n",
              "<style scoped>\n",
              "    .dataframe tbody tr th:only-of-type {\n",
              "        vertical-align: middle;\n",
              "    }\n",
              "\n",
              "    .dataframe tbody tr th {\n",
              "        vertical-align: top;\n",
              "    }\n",
              "\n",
              "    .dataframe thead th {\n",
              "        text-align: right;\n",
              "    }\n",
              "</style>\n",
              "<table border=\"1\" class=\"dataframe\">\n",
              "  <thead>\n",
              "    <tr style=\"text-align: right;\">\n",
              "      <th></th>\n",
              "      <th>loan_amnt</th>\n",
              "      <th>term</th>\n",
              "      <th>int_rate</th>\n",
              "      <th>installment</th>\n",
              "      <th>emp_length</th>\n",
              "      <th>home_ownership</th>\n",
              "      <th>annual_inc</th>\n",
              "      <th>verification_status</th>\n",
              "      <th>loan_status</th>\n",
              "      <th>purpose</th>\n",
              "      <th>dti</th>\n",
              "      <th>delinq_2yrs</th>\n",
              "      <th>inq_last_6mths</th>\n",
              "      <th>open_acc</th>\n",
              "      <th>pub_rec</th>\n",
              "      <th>revol_bal</th>\n",
              "      <th>revol_util</th>\n",
              "      <th>total_acc</th>\n",
              "    </tr>\n",
              "  </thead>\n",
              "  <tbody>\n",
              "    <tr>\n",
              "      <th>0</th>\n",
              "      <td>5000.0</td>\n",
              "      <td>36 months</td>\n",
              "      <td>10.65</td>\n",
              "      <td>162.87</td>\n",
              "      <td>10+ years</td>\n",
              "      <td>RENT</td>\n",
              "      <td>24000.0</td>\n",
              "      <td>Verified</td>\n",
              "      <td>Fully Paid</td>\n",
              "      <td>credit_card</td>\n",
              "      <td>27.65</td>\n",
              "      <td>0.0</td>\n",
              "      <td>1.0</td>\n",
              "      <td>3.0</td>\n",
              "      <td>0.0</td>\n",
              "      <td>13648.0</td>\n",
              "      <td>83.7</td>\n",
              "      <td>9.0</td>\n",
              "    </tr>\n",
              "    <tr>\n",
              "      <th>1</th>\n",
              "      <td>2500.0</td>\n",
              "      <td>60 months</td>\n",
              "      <td>15.27</td>\n",
              "      <td>59.83</td>\n",
              "      <td>&lt; 1 year</td>\n",
              "      <td>RENT</td>\n",
              "      <td>30000.0</td>\n",
              "      <td>Source Verified</td>\n",
              "      <td>Charged Off</td>\n",
              "      <td>car</td>\n",
              "      <td>1.00</td>\n",
              "      <td>0.0</td>\n",
              "      <td>5.0</td>\n",
              "      <td>3.0</td>\n",
              "      <td>0.0</td>\n",
              "      <td>1687.0</td>\n",
              "      <td>9.4</td>\n",
              "      <td>4.0</td>\n",
              "    </tr>\n",
              "    <tr>\n",
              "      <th>2</th>\n",
              "      <td>2400.0</td>\n",
              "      <td>36 months</td>\n",
              "      <td>15.96</td>\n",
              "      <td>84.33</td>\n",
              "      <td>10+ years</td>\n",
              "      <td>RENT</td>\n",
              "      <td>12252.0</td>\n",
              "      <td>Not Verified</td>\n",
              "      <td>Fully Paid</td>\n",
              "      <td>small_business</td>\n",
              "      <td>8.72</td>\n",
              "      <td>0.0</td>\n",
              "      <td>2.0</td>\n",
              "      <td>2.0</td>\n",
              "      <td>0.0</td>\n",
              "      <td>2956.0</td>\n",
              "      <td>98.5</td>\n",
              "      <td>10.0</td>\n",
              "    </tr>\n",
              "    <tr>\n",
              "      <th>3</th>\n",
              "      <td>10000.0</td>\n",
              "      <td>36 months</td>\n",
              "      <td>13.49</td>\n",
              "      <td>339.31</td>\n",
              "      <td>10+ years</td>\n",
              "      <td>RENT</td>\n",
              "      <td>49200.0</td>\n",
              "      <td>Source Verified</td>\n",
              "      <td>Fully Paid</td>\n",
              "      <td>other</td>\n",
              "      <td>20.00</td>\n",
              "      <td>0.0</td>\n",
              "      <td>1.0</td>\n",
              "      <td>10.0</td>\n",
              "      <td>0.0</td>\n",
              "      <td>5598.0</td>\n",
              "      <td>21.0</td>\n",
              "      <td>37.0</td>\n",
              "    </tr>\n",
              "    <tr>\n",
              "      <th>5</th>\n",
              "      <td>5000.0</td>\n",
              "      <td>36 months</td>\n",
              "      <td>7.90</td>\n",
              "      <td>156.46</td>\n",
              "      <td>3 years</td>\n",
              "      <td>RENT</td>\n",
              "      <td>36000.0</td>\n",
              "      <td>Source Verified</td>\n",
              "      <td>Fully Paid</td>\n",
              "      <td>wedding</td>\n",
              "      <td>11.20</td>\n",
              "      <td>0.0</td>\n",
              "      <td>3.0</td>\n",
              "      <td>9.0</td>\n",
              "      <td>0.0</td>\n",
              "      <td>7963.0</td>\n",
              "      <td>28.3</td>\n",
              "      <td>12.0</td>\n",
              "    </tr>\n",
              "  </tbody>\n",
              "</table>\n",
              "</div>"
            ],
            "text/plain": [
              "   loan_amnt        term  int_rate  installment emp_length home_ownership  \\\n",
              "0     5000.0   36 months     10.65       162.87  10+ years           RENT   \n",
              "1     2500.0   60 months     15.27        59.83   < 1 year           RENT   \n",
              "2     2400.0   36 months     15.96        84.33  10+ years           RENT   \n",
              "3    10000.0   36 months     13.49       339.31  10+ years           RENT   \n",
              "5     5000.0   36 months      7.90       156.46    3 years           RENT   \n",
              "\n",
              "   annual_inc verification_status  loan_status         purpose    dti  \\\n",
              "0     24000.0            Verified   Fully Paid     credit_card  27.65   \n",
              "1     30000.0     Source Verified  Charged Off             car   1.00   \n",
              "2     12252.0        Not Verified   Fully Paid  small_business   8.72   \n",
              "3     49200.0     Source Verified   Fully Paid           other  20.00   \n",
              "5     36000.0     Source Verified   Fully Paid         wedding  11.20   \n",
              "\n",
              "   delinq_2yrs  inq_last_6mths  open_acc  pub_rec  revol_bal  revol_util  \\\n",
              "0          0.0             1.0       3.0      0.0    13648.0        83.7   \n",
              "1          0.0             5.0       3.0      0.0     1687.0         9.4   \n",
              "2          0.0             2.0       2.0      0.0     2956.0        98.5   \n",
              "3          0.0             1.0      10.0      0.0     5598.0        21.0   \n",
              "5          0.0             3.0       9.0      0.0     7963.0        28.3   \n",
              "\n",
              "   total_acc  \n",
              "0        9.0  \n",
              "1        4.0  \n",
              "2       10.0  \n",
              "3       37.0  \n",
              "5       12.0  "
            ]
          },
          "execution_count": 31,
          "metadata": {},
          "output_type": "execute_result"
        }
      ],
      "source": [
        "df.head()"
      ]
    },
    {
      "cell_type": "code",
      "execution_count": 32,
      "metadata": {
        "colab": {
          "base_uri": "https://localhost:8080/",
          "height": 364
        },
        "id": "EzYlcu2aNRuv",
        "outputId": "69c0e2c7-8678-4b3a-ca7b-10fe37fde361"
      },
      "outputs": [
        {
          "data": {
            "text/html": [
              "<div>\n",
              "<style scoped>\n",
              "    .dataframe tbody tr th:only-of-type {\n",
              "        vertical-align: middle;\n",
              "    }\n",
              "\n",
              "    .dataframe tbody tr th {\n",
              "        vertical-align: top;\n",
              "    }\n",
              "\n",
              "    .dataframe thead th {\n",
              "        text-align: right;\n",
              "    }\n",
              "</style>\n",
              "<table border=\"1\" class=\"dataframe\">\n",
              "  <thead>\n",
              "    <tr style=\"text-align: right;\">\n",
              "      <th></th>\n",
              "      <th>loan_amnt</th>\n",
              "      <th>int_rate</th>\n",
              "      <th>installment</th>\n",
              "      <th>annual_inc</th>\n",
              "      <th>dti</th>\n",
              "      <th>delinq_2yrs</th>\n",
              "      <th>inq_last_6mths</th>\n",
              "      <th>open_acc</th>\n",
              "      <th>pub_rec</th>\n",
              "      <th>revol_bal</th>\n",
              "      <th>revol_util</th>\n",
              "      <th>total_acc</th>\n",
              "    </tr>\n",
              "  </thead>\n",
              "  <tbody>\n",
              "    <tr>\n",
              "      <th>count</th>\n",
              "      <td>37675.000000</td>\n",
              "      <td>37675.000000</td>\n",
              "      <td>37675.00000</td>\n",
              "      <td>3.767500e+04</td>\n",
              "      <td>37675.000000</td>\n",
              "      <td>37675.000000</td>\n",
              "      <td>37675.000000</td>\n",
              "      <td>37675.000000</td>\n",
              "      <td>37675.000000</td>\n",
              "      <td>37675.000000</td>\n",
              "      <td>37675.000000</td>\n",
              "      <td>37675.000000</td>\n",
              "    </tr>\n",
              "    <tr>\n",
              "      <th>mean</th>\n",
              "      <td>11150.426012</td>\n",
              "      <td>11.974345</td>\n",
              "      <td>325.05027</td>\n",
              "      <td>6.946096e+04</td>\n",
              "      <td>13.292569</td>\n",
              "      <td>0.147074</td>\n",
              "      <td>0.872037</td>\n",
              "      <td>9.307764</td>\n",
              "      <td>0.053749</td>\n",
              "      <td>13389.439735</td>\n",
              "      <td>48.871170</td>\n",
              "      <td>22.106038</td>\n",
              "    </tr>\n",
              "    <tr>\n",
              "      <th>std</th>\n",
              "      <td>7367.968546</td>\n",
              "      <td>3.688724</td>\n",
              "      <td>208.87092</td>\n",
              "      <td>6.462082e+04</td>\n",
              "      <td>6.661638</td>\n",
              "      <td>0.493200</td>\n",
              "      <td>1.071154</td>\n",
              "      <td>4.395002</td>\n",
              "      <td>0.234639</td>\n",
              "      <td>15893.804160</td>\n",
              "      <td>28.336961</td>\n",
              "      <td>11.408414</td>\n",
              "    </tr>\n",
              "    <tr>\n",
              "      <th>min</th>\n",
              "      <td>500.000000</td>\n",
              "      <td>5.420000</td>\n",
              "      <td>15.69000</td>\n",
              "      <td>4.000000e+03</td>\n",
              "      <td>0.000000</td>\n",
              "      <td>0.000000</td>\n",
              "      <td>0.000000</td>\n",
              "      <td>2.000000</td>\n",
              "      <td>0.000000</td>\n",
              "      <td>0.000000</td>\n",
              "      <td>0.000000</td>\n",
              "      <td>2.000000</td>\n",
              "    </tr>\n",
              "    <tr>\n",
              "      <th>25%</th>\n",
              "      <td>5500.000000</td>\n",
              "      <td>8.975000</td>\n",
              "      <td>167.56500</td>\n",
              "      <td>4.100000e+04</td>\n",
              "      <td>8.170000</td>\n",
              "      <td>0.000000</td>\n",
              "      <td>0.000000</td>\n",
              "      <td>6.000000</td>\n",
              "      <td>0.000000</td>\n",
              "      <td>3712.000000</td>\n",
              "      <td>25.500000</td>\n",
              "      <td>14.000000</td>\n",
              "    </tr>\n",
              "    <tr>\n",
              "      <th>50%</th>\n",
              "      <td>10000.000000</td>\n",
              "      <td>11.830000</td>\n",
              "      <td>280.62000</td>\n",
              "      <td>6.000000e+04</td>\n",
              "      <td>13.390000</td>\n",
              "      <td>0.000000</td>\n",
              "      <td>1.000000</td>\n",
              "      <td>9.000000</td>\n",
              "      <td>0.000000</td>\n",
              "      <td>8868.000000</td>\n",
              "      <td>49.300000</td>\n",
              "      <td>20.000000</td>\n",
              "    </tr>\n",
              "    <tr>\n",
              "      <th>75%</th>\n",
              "      <td>15000.000000</td>\n",
              "      <td>14.420000</td>\n",
              "      <td>430.05500</td>\n",
              "      <td>8.300000e+04</td>\n",
              "      <td>18.560000</td>\n",
              "      <td>0.000000</td>\n",
              "      <td>1.000000</td>\n",
              "      <td>12.000000</td>\n",
              "      <td>0.000000</td>\n",
              "      <td>17043.000000</td>\n",
              "      <td>72.400000</td>\n",
              "      <td>29.000000</td>\n",
              "    </tr>\n",
              "    <tr>\n",
              "      <th>max</th>\n",
              "      <td>35000.000000</td>\n",
              "      <td>24.590000</td>\n",
              "      <td>1305.19000</td>\n",
              "      <td>6.000000e+06</td>\n",
              "      <td>29.990000</td>\n",
              "      <td>11.000000</td>\n",
              "      <td>8.000000</td>\n",
              "      <td>44.000000</td>\n",
              "      <td>4.000000</td>\n",
              "      <td>149588.000000</td>\n",
              "      <td>99.900000</td>\n",
              "      <td>90.000000</td>\n",
              "    </tr>\n",
              "  </tbody>\n",
              "</table>\n",
              "</div>"
            ],
            "text/plain": [
              "          loan_amnt      int_rate  installment    annual_inc           dti  \\\n",
              "count  37675.000000  37675.000000  37675.00000  3.767500e+04  37675.000000   \n",
              "mean   11150.426012     11.974345    325.05027  6.946096e+04     13.292569   \n",
              "std     7367.968546      3.688724    208.87092  6.462082e+04      6.661638   \n",
              "min      500.000000      5.420000     15.69000  4.000000e+03      0.000000   \n",
              "25%     5500.000000      8.975000    167.56500  4.100000e+04      8.170000   \n",
              "50%    10000.000000     11.830000    280.62000  6.000000e+04     13.390000   \n",
              "75%    15000.000000     14.420000    430.05500  8.300000e+04     18.560000   \n",
              "max    35000.000000     24.590000   1305.19000  6.000000e+06     29.990000   \n",
              "\n",
              "        delinq_2yrs  inq_last_6mths      open_acc       pub_rec  \\\n",
              "count  37675.000000    37675.000000  37675.000000  37675.000000   \n",
              "mean       0.147074        0.872037      9.307764      0.053749   \n",
              "std        0.493200        1.071154      4.395002      0.234639   \n",
              "min        0.000000        0.000000      2.000000      0.000000   \n",
              "25%        0.000000        0.000000      6.000000      0.000000   \n",
              "50%        0.000000        1.000000      9.000000      0.000000   \n",
              "75%        0.000000        1.000000     12.000000      0.000000   \n",
              "max       11.000000        8.000000     44.000000      4.000000   \n",
              "\n",
              "           revol_bal    revol_util     total_acc  \n",
              "count   37675.000000  37675.000000  37675.000000  \n",
              "mean    13389.439735     48.871170     22.106038  \n",
              "std     15893.804160     28.336961     11.408414  \n",
              "min         0.000000      0.000000      2.000000  \n",
              "25%      3712.000000     25.500000     14.000000  \n",
              "50%      8868.000000     49.300000     20.000000  \n",
              "75%     17043.000000     72.400000     29.000000  \n",
              "max    149588.000000     99.900000     90.000000  "
            ]
          },
          "execution_count": 32,
          "metadata": {},
          "output_type": "execute_result"
        }
      ],
      "source": [
        "df.describe()"
      ]
    },
    {
      "cell_type": "code",
      "execution_count": 33,
      "metadata": {
        "id": "SWMTKGEUYHeK"
      },
      "outputs": [],
      "source": [
        "# Delete duplicated rows\n",
        "df.drop_duplicates(inplace=True)\n",
        "\n",
        "# Generate a \"clean data file\"\n",
        "df.to_csv(artifact_name,index=False)"
      ]
    },
    {
      "cell_type": "code",
      "execution_count": 34,
      "metadata": {
        "colab": {
          "base_uri": "https://localhost:8080/"
        },
        "id": "4WkUfOnkYI5l",
        "outputId": "c6c7d319-7d1f-45b7-9a93-2f22ff609087"
      },
      "outputs": [
        {
          "data": {
            "text/plain": [
              "ArtifactManifestEntry(path='preprocessed_data.csv', digest='/nEo6o4VzA5+PJDHkPUQnQ==', size=4963598, local_path='/Users/phamdinhkhanh/Library/Application Support/wandb/artifacts/staging/tmp3j9ymrm0', skip_cache=False)"
            ]
          },
          "execution_count": 34,
          "metadata": {},
          "output_type": "execute_result"
        }
      ],
      "source": [
        "# Create a new artifact and configure with the necessary arguments\n",
        "artifact = wandb.Artifact(name=artifact_name,\n",
        "                          type=artifact_type,\n",
        "                          description=artifact_description)\n",
        "artifact.add_file(artifact_name)"
      ]
    },
    {
      "cell_type": "code",
      "execution_count": 35,
      "metadata": {
        "colab": {
          "base_uri": "https://localhost:8080/"
        },
        "id": "0dVXWRhmGmOn",
        "outputId": "9294941f-ebf6-4482-abea-1a86c8eeb5d1"
      },
      "outputs": [
        {
          "data": {
            "text/plain": [
              "<Artifact preprocessed_data.csv>"
            ]
          },
          "execution_count": 35,
          "metadata": {},
          "output_type": "execute_result"
        }
      ],
      "source": [
        "# Upload the artifact to Wandb\n",
        "run.log_artifact(artifact)"
      ]
    },
    {
      "cell_type": "code",
      "execution_count": 36,
      "metadata": {
        "colab": {
          "base_uri": "https://localhost:8080/",
          "height": 87,
          "referenced_widgets": [
            "4af26c812d2c4a5d83fac74b5381c7d9",
            "d31f024d967541359653d30aaf0b31aa",
            "b6405bec665a43f9bb039c54b5dad800",
            "a7fc1e5a59314ac4a65a52deb419a743",
            "0cd8fb266e864d729b2f85c4085cc155",
            "993cc66212e84c1fa6ae4612807f501d",
            "0b6aae5021914b759b68b48dd01aebf7",
            "15b76b1b05b743648ebca28fce91c70f"
          ]
        },
        "id": "mqRqmqbDp3Zc",
        "outputId": "73d82ebe-39bb-4b09-c928-22e4ad2fb31a"
      },
      "outputs": [
        {
          "data": {
            "application/vnd.jupyter.widget-view+json": {
              "model_id": "ef635150823f4d508f7e67a63ddd685d",
              "version_major": 2,
              "version_minor": 0
            },
            "text/plain": [
              "VBox(children=(Label(value='4.054 MB of 4.740 MB uploaded\\r'), FloatProgress(value=0.8551190626120343, max=1.0…"
            ]
          },
          "metadata": {},
          "output_type": "display_data"
        },
        {
          "data": {
            "text/html": [
              " View run <strong style=\"color:#cdcd00\">rosy-frog-7</strong> at: <a href='https://wandb.ai/aikhanhblog-datascienceworld-kan/risk_credit/runs/0lzr1818' target=\"_blank\">https://wandb.ai/aikhanhblog-datascienceworld-kan/risk_credit/runs/0lzr1818</a><br/> View project at: <a href='https://wandb.ai/aikhanhblog-datascienceworld-kan/risk_credit' target=\"_blank\">https://wandb.ai/aikhanhblog-datascienceworld-kan/risk_credit</a><br/>Synced 4 W&B file(s), 0 media file(s), 5 artifact file(s) and 0 other file(s)"
            ],
            "text/plain": [
              "<IPython.core.display.HTML object>"
            ]
          },
          "metadata": {},
          "output_type": "display_data"
        },
        {
          "data": {
            "text/html": [
              "Find logs at: <code>./wandb/run-20250323_155305-0lzr1818/logs</code>"
            ],
            "text/plain": [
              "<IPython.core.display.HTML object>"
            ]
          },
          "metadata": {},
          "output_type": "display_data"
        }
      ],
      "source": [
        "# close the run\n",
        "# waiting a while after run the previous cell before execute this\n",
        "run.finish()"
      ]
    },
    {
      "cell_type": "code",
      "execution_count": null,
      "metadata": {},
      "outputs": [],
      "source": []
    }
  ],
  "metadata": {
    "colab": {
      "collapsed_sections": [],
      "name": "3 - preprocessing.ipynb",
      "provenance": []
    },
    "kernelspec": {
      "display_name": ".venv",
      "language": "python",
      "name": "python3"
    },
    "language_info": {
      "codemirror_mode": {
        "name": "ipython",
        "version": 3
      },
      "file_extension": ".py",
      "mimetype": "text/x-python",
      "name": "python",
      "nbconvert_exporter": "python",
      "pygments_lexer": "ipython3",
      "version": "3.8.19"
    },
    "widgets": {
      "application/vnd.jupyter.widget-state+json": {
        "0b6aae5021914b759b68b48dd01aebf7": {
          "model_module": "@jupyter-widgets/base",
          "model_module_version": "1.2.0",
          "model_name": "LayoutModel",
          "state": {
            "_model_module": "@jupyter-widgets/base",
            "_model_module_version": "1.2.0",
            "_model_name": "LayoutModel",
            "_view_count": null,
            "_view_module": "@jupyter-widgets/base",
            "_view_module_version": "1.2.0",
            "_view_name": "LayoutView",
            "align_content": null,
            "align_items": null,
            "align_self": null,
            "border": null,
            "bottom": null,
            "display": null,
            "flex": null,
            "flex_flow": null,
            "grid_area": null,
            "grid_auto_columns": null,
            "grid_auto_flow": null,
            "grid_auto_rows": null,
            "grid_column": null,
            "grid_gap": null,
            "grid_row": null,
            "grid_template_areas": null,
            "grid_template_columns": null,
            "grid_template_rows": null,
            "height": null,
            "justify_content": null,
            "justify_items": null,
            "left": null,
            "margin": null,
            "max_height": null,
            "max_width": null,
            "min_height": null,
            "min_width": null,
            "object_fit": null,
            "object_position": null,
            "order": null,
            "overflow": null,
            "overflow_x": null,
            "overflow_y": null,
            "padding": null,
            "right": null,
            "top": null,
            "visibility": null,
            "width": null
          }
        },
        "0cd8fb266e864d729b2f85c4085cc155": {
          "model_module": "@jupyter-widgets/base",
          "model_module_version": "1.2.0",
          "model_name": "LayoutModel",
          "state": {
            "_model_module": "@jupyter-widgets/base",
            "_model_module_version": "1.2.0",
            "_model_name": "LayoutModel",
            "_view_count": null,
            "_view_module": "@jupyter-widgets/base",
            "_view_module_version": "1.2.0",
            "_view_name": "LayoutView",
            "align_content": null,
            "align_items": null,
            "align_self": null,
            "border": null,
            "bottom": null,
            "display": null,
            "flex": null,
            "flex_flow": null,
            "grid_area": null,
            "grid_auto_columns": null,
            "grid_auto_flow": null,
            "grid_auto_rows": null,
            "grid_column": null,
            "grid_gap": null,
            "grid_row": null,
            "grid_template_areas": null,
            "grid_template_columns": null,
            "grid_template_rows": null,
            "height": null,
            "justify_content": null,
            "justify_items": null,
            "left": null,
            "margin": null,
            "max_height": null,
            "max_width": null,
            "min_height": null,
            "min_width": null,
            "object_fit": null,
            "object_position": null,
            "order": null,
            "overflow": null,
            "overflow_x": null,
            "overflow_y": null,
            "padding": null,
            "right": null,
            "top": null,
            "visibility": null,
            "width": null
          }
        },
        "15b76b1b05b743648ebca28fce91c70f": {
          "model_module": "@jupyter-widgets/controls",
          "model_module_version": "1.5.0",
          "model_name": "ProgressStyleModel",
          "state": {
            "_model_module": "@jupyter-widgets/controls",
            "_model_module_version": "1.5.0",
            "_model_name": "ProgressStyleModel",
            "_view_count": null,
            "_view_module": "@jupyter-widgets/base",
            "_view_module_version": "1.2.0",
            "_view_name": "StyleView",
            "bar_color": null,
            "description_width": ""
          }
        },
        "4af26c812d2c4a5d83fac74b5381c7d9": {
          "model_module": "@jupyter-widgets/controls",
          "model_module_version": "1.5.0",
          "model_name": "VBoxModel",
          "state": {
            "_dom_classes": [],
            "_model_module": "@jupyter-widgets/controls",
            "_model_module_version": "1.5.0",
            "_model_name": "VBoxModel",
            "_view_count": null,
            "_view_module": "@jupyter-widgets/controls",
            "_view_module_version": "1.5.0",
            "_view_name": "VBoxView",
            "box_style": "",
            "children": [
              "IPY_MODEL_d31f024d967541359653d30aaf0b31aa",
              "IPY_MODEL_b6405bec665a43f9bb039c54b5dad800"
            ],
            "layout": "IPY_MODEL_a7fc1e5a59314ac4a65a52deb419a743"
          }
        },
        "993cc66212e84c1fa6ae4612807f501d": {
          "model_module": "@jupyter-widgets/controls",
          "model_module_version": "1.5.0",
          "model_name": "DescriptionStyleModel",
          "state": {
            "_model_module": "@jupyter-widgets/controls",
            "_model_module_version": "1.5.0",
            "_model_name": "DescriptionStyleModel",
            "_view_count": null,
            "_view_module": "@jupyter-widgets/base",
            "_view_module_version": "1.2.0",
            "_view_name": "StyleView",
            "description_width": ""
          }
        },
        "a7fc1e5a59314ac4a65a52deb419a743": {
          "model_module": "@jupyter-widgets/base",
          "model_module_version": "1.2.0",
          "model_name": "LayoutModel",
          "state": {
            "_model_module": "@jupyter-widgets/base",
            "_model_module_version": "1.2.0",
            "_model_name": "LayoutModel",
            "_view_count": null,
            "_view_module": "@jupyter-widgets/base",
            "_view_module_version": "1.2.0",
            "_view_name": "LayoutView",
            "align_content": null,
            "align_items": null,
            "align_self": null,
            "border": null,
            "bottom": null,
            "display": null,
            "flex": null,
            "flex_flow": null,
            "grid_area": null,
            "grid_auto_columns": null,
            "grid_auto_flow": null,
            "grid_auto_rows": null,
            "grid_column": null,
            "grid_gap": null,
            "grid_row": null,
            "grid_template_areas": null,
            "grid_template_columns": null,
            "grid_template_rows": null,
            "height": null,
            "justify_content": null,
            "justify_items": null,
            "left": null,
            "margin": null,
            "max_height": null,
            "max_width": null,
            "min_height": null,
            "min_width": null,
            "object_fit": null,
            "object_position": null,
            "order": null,
            "overflow": null,
            "overflow_x": null,
            "overflow_y": null,
            "padding": null,
            "right": null,
            "top": null,
            "visibility": null,
            "width": null
          }
        },
        "b6405bec665a43f9bb039c54b5dad800": {
          "model_module": "@jupyter-widgets/controls",
          "model_module_version": "1.5.0",
          "model_name": "FloatProgressModel",
          "state": {
            "_dom_classes": [],
            "_model_module": "@jupyter-widgets/controls",
            "_model_module_version": "1.5.0",
            "_model_name": "FloatProgressModel",
            "_view_count": null,
            "_view_module": "@jupyter-widgets/controls",
            "_view_module_version": "1.5.0",
            "_view_name": "ProgressView",
            "bar_style": "",
            "description": "",
            "description_tooltip": null,
            "layout": "IPY_MODEL_0b6aae5021914b759b68b48dd01aebf7",
            "max": 1,
            "min": 0,
            "orientation": "horizontal",
            "style": "IPY_MODEL_15b76b1b05b743648ebca28fce91c70f",
            "value": 1
          }
        },
        "d31f024d967541359653d30aaf0b31aa": {
          "model_module": "@jupyter-widgets/controls",
          "model_module_version": "1.5.0",
          "model_name": "LabelModel",
          "state": {
            "_dom_classes": [],
            "_model_module": "@jupyter-widgets/controls",
            "_model_module_version": "1.5.0",
            "_model_name": "LabelModel",
            "_view_count": null,
            "_view_module": "@jupyter-widgets/controls",
            "_view_module_version": "1.5.0",
            "_view_name": "LabelView",
            "description": "",
            "description_tooltip": null,
            "layout": "IPY_MODEL_0cd8fb266e864d729b2f85c4085cc155",
            "placeholder": "​",
            "style": "IPY_MODEL_993cc66212e84c1fa6ae4612807f501d",
            "value": "0.013 MB of 0.013 MB uploaded (0.000 MB deduped)\r"
          }
        }
      }
    }
  },
  "nbformat": 4,
  "nbformat_minor": 0
}
